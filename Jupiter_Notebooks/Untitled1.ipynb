{
 "cells": [
  {
   "cell_type": "code",
   "execution_count": 1,
   "metadata": {},
   "outputs": [],
   "source": [
    "potential_isbns = [\"978-3-86226-468-5\", # proper ISBN\n",
    "                   \"AB-423-2343\", # not a proper ISBN\n",
    "                   \"978-3-XXXXX-468-5\"] # not a proper ISBN but pretty close"
   ]
  },
  {
   "cell_type": "code",
   "execution_count": 2,
   "metadata": {},
   "outputs": [],
   "source": [
    "isbn_1 = potential_isbns[0]"
   ]
  },
  {
   "cell_type": "code",
   "execution_count": 3,
   "metadata": {},
   "outputs": [
    {
     "data": {
      "text/plain": [
       "'978-3-86226-468-5'"
      ]
     },
     "execution_count": 3,
     "metadata": {},
     "output_type": "execute_result"
    }
   ],
   "source": [
    "isbn_1"
   ]
  },
  {
   "cell_type": "code",
   "execution_count": 4,
   "metadata": {},
   "outputs": [],
   "source": [
    "# define the funktion\n",
    "def is_isbn():\n",
    "    print(\"testing if correct ISBN\")"
   ]
  },
  {
   "cell_type": "code",
   "execution_count": 5,
   "metadata": {},
   "outputs": [
    {
     "name": "stdout",
     "output_type": "stream",
     "text": [
      "testing if correct ISBN\n"
     ]
    }
   ],
   "source": [
    "is_isbn()#call the funktion"
   ]
  },
  {
   "cell_type": "code",
   "execution_count": 10,
   "metadata": {},
   "outputs": [
    {
     "name": "stdout",
     "output_type": "stream",
     "text": [
      "Is a ISBN\n"
     ]
    }
   ],
   "source": [
    "def is_isbn():\n",
    "    isbn = '978-3-86226-468-5'\n",
    "    if len(isbn) == 17:\n",
    "        print(\"Is a ISBN\")\n",
    "    else:\n",
    "        print(\"Is not a ISBN\")\n",
    "\n",
    "is_isbn()\n",
    "    "
   ]
  },
  {
   "cell_type": "code",
   "execution_count": 8,
   "metadata": {},
   "outputs": [
    {
     "name": "stdout",
     "output_type": "stream",
     "text": [
      "Is a ISBN\n"
     ]
    }
   ],
   "source": [
    "def is_isbn():\n",
    "    isbn = '978-3-86226-468-5'\n",
    "    if len(isbn) != 17:\n",
    "        print(\"Is not a ISBN\")\n",
    "    else:\n",
    "            print(\"Is a ISBN\")\n",
    "is_isbn()"
   ]
  },
  {
   "cell_type": "code",
   "execution_count": 11,
   "metadata": {},
   "outputs": [
    {
     "ename": "TypeError",
     "evalue": "is_isbn() missing 1 required positional argument: 'isbn'",
     "output_type": "error",
     "traceback": [
      "\u001b[1;31m---------------------------------------------------------------------------\u001b[0m",
      "\u001b[1;31mTypeError\u001b[0m                                 Traceback (most recent call last)",
      "\u001b[1;32m<ipython-input-11-c132e3983ccc>\u001b[0m in \u001b[0;36m<module>\u001b[1;34m\u001b[0m\n\u001b[0;32m      4\u001b[0m     \u001b[1;32melse\u001b[0m\u001b[1;33m:\u001b[0m\u001b[1;33m\u001b[0m\u001b[1;33m\u001b[0m\u001b[0m\n\u001b[0;32m      5\u001b[0m             \u001b[0mprint\u001b[0m\u001b[1;33m(\u001b[0m\u001b[1;34m\"Is a ISBN\"\u001b[0m\u001b[1;33m)\u001b[0m\u001b[1;33m\u001b[0m\u001b[1;33m\u001b[0m\u001b[0m\n\u001b[1;32m----> 6\u001b[1;33m \u001b[0mis_isbn\u001b[0m\u001b[1;33m(\u001b[0m\u001b[1;33m)\u001b[0m\u001b[1;33m\u001b[0m\u001b[1;33m\u001b[0m\u001b[0m\n\u001b[0m",
      "\u001b[1;31mTypeError\u001b[0m: is_isbn() missing 1 required positional argument: 'isbn'"
     ]
    }
   ],
   "source": [
    "def is_isbn(isbn):\n",
    "    if len(isbn) != 17:\n",
    "        print(\"Is not a ISBN\")\n",
    "    else:\n",
    "            print(\"Is a ISBN\")\n",
    "is_isbn()"
   ]
  },
  {
   "cell_type": "code",
   "execution_count": 12,
   "metadata": {},
   "outputs": [
    {
     "name": "stdout",
     "output_type": "stream",
     "text": [
      "Is a ISBN\n"
     ]
    }
   ],
   "source": [
    "def is_isbn(isbn):\n",
    "    if len(isbn) != 17:\n",
    "        print(\"Is not a ISBN\")\n",
    "    else:\n",
    "            print(\"Is a ISBN\")\n",
    "is_isbn(\"978-3-86226-468-5\")"
   ]
  },
  {
   "cell_type": "code",
   "execution_count": 13,
   "metadata": {},
   "outputs": [
    {
     "name": "stdout",
     "output_type": "stream",
     "text": [
      "Is a ISBN\n",
      "Is not a ISBN\n"
     ]
    }
   ],
   "source": [
    "is_isbn(\"978-3-86226-468-5\")\n",
    "is_isbn(\"Blub\")"
   ]
  },
  {
   "cell_type": "code",
   "execution_count": 15,
   "metadata": {},
   "outputs": [
    {
     "data": {
      "text/plain": [
       "True"
      ]
     },
     "execution_count": 15,
     "metadata": {},
     "output_type": "execute_result"
    }
   ],
   "source": [
    "#using \"return\" to return a value\n",
    "def is_isbn(isbn):\n",
    "    if len(isbn) != 17:\n",
    "        return False\n",
    "    else:\n",
    "        return True\n",
    "is_isbn(\"978-3-86226-468-5\")"
   ]
  },
  {
   "cell_type": "code",
   "execution_count": 16,
   "metadata": {},
   "outputs": [
    {
     "name": "stdout",
     "output_type": "stream",
     "text": [
      "This is a proper ISBN\n"
     ]
    }
   ],
   "source": [
    "#storing the result of the function call in a variable\n",
    "result_of_isbn_check = is_isbn(\"978-3-86226-468-5\")\n",
    "if result_of_isbn_check:\n",
    "    print(\"This is a proper ISBN\")"
   ]
  },
  {
   "cell_type": "code",
   "execution_count": 17,
   "metadata": {},
   "outputs": [
    {
     "name": "stdout",
     "output_type": "stream",
     "text": [
      "This is a proper ISBN\n"
     ]
    }
   ],
   "source": [
    "if is_isbn(\"978-3-86226-468-5\"):\n",
    "    print(\"This is a proper ISBN\")"
   ]
  },
  {
   "cell_type": "code",
   "execution_count": 18,
   "metadata": {},
   "outputs": [],
   "source": [
    "my_string = \"This is a good book.\""
   ]
  },
  {
   "cell_type": "code",
   "execution_count": 19,
   "metadata": {},
   "outputs": [
    {
     "data": {
      "text/plain": [
       "'THIS IS A GOOD BOOK.'"
      ]
     },
     "execution_count": 19,
     "metadata": {},
     "output_type": "execute_result"
    }
   ],
   "source": [
    "my_string.upper()"
   ]
  },
  {
   "cell_type": "code",
   "execution_count": 20,
   "metadata": {},
   "outputs": [
    {
     "data": {
      "text/plain": [
       "2"
      ]
     },
     "execution_count": 20,
     "metadata": {},
     "output_type": "execute_result"
    }
   ],
   "source": [
    "my_string.count(\"i\")"
   ]
  },
  {
   "cell_type": "code",
   "execution_count": 25,
   "metadata": {},
   "outputs": [
    {
     "data": {
      "text/plain": [
       "True"
      ]
     },
     "execution_count": 25,
     "metadata": {},
     "output_type": "execute_result"
    }
   ],
   "source": [
    "def is_isbn(isbn):\n",
    "    if isbn.count(\"-\") == 4:\n",
    "        return True\n",
    "    else:\n",
    "        return False\n",
    "is_isbn(\"978-3-86226-468-5\")"
   ]
  },
  {
   "cell_type": "code",
   "execution_count": 26,
   "metadata": {},
   "outputs": [
    {
     "data": {
      "text/plain": [
       "True"
      ]
     },
     "execution_count": 26,
     "metadata": {},
     "output_type": "execute_result"
    }
   ],
   "source": [
    "def is_isbn(isbn):\n",
    "    if isbn.count(\"-\") != 4:\n",
    "        return False\n",
    "    else:\n",
    "        return True\n",
    "is_isbn(\"978-3-86226-468-5\")"
   ]
  },
  {
   "cell_type": "code",
   "execution_count": 27,
   "metadata": {},
   "outputs": [
    {
     "data": {
      "text/plain": [
       "True"
      ]
     },
     "execution_count": 27,
     "metadata": {},
     "output_type": "execute_result"
    }
   ],
   "source": [
    "def is_isbn(isbn):\n",
    "    if isbn.count(\"-\") != 4:\n",
    "        return False\n",
    "    if len(isbn) != 17:\n",
    "        return False\n",
    "    return True\n",
    "is_isbn(\"978-3-86226-468-5\")"
   ]
  },
  {
   "cell_type": "code",
   "execution_count": 28,
   "metadata": {},
   "outputs": [
    {
     "data": {
      "text/plain": [
       "True"
      ]
     },
     "execution_count": 28,
     "metadata": {},
     "output_type": "execute_result"
    }
   ],
   "source": [
    "def is_isbn(isbn):\n",
    "    if isbn.count(\"-\") != 4:\n",
    "        return False\n",
    "    if len(isbn) != 17:\n",
    "        return False\n",
    "    for char in isbn:\n",
    "        if char == \"-\":\n",
    "            continue\n",
    "        if not char.isdigit():\n",
    "            return False\n",
    "    return True\n",
    "is_isbn(\"978-3-86226-468-5\")"
   ]
  },
  {
   "cell_type": "code",
   "execution_count": 29,
   "metadata": {},
   "outputs": [
    {
     "name": "stdout",
     "output_type": "stream",
     "text": [
      "978-3-86226-468-5 True\n",
      "AB-423-2343 False\n",
      "978-3-XXXXX-468-5 False\n"
     ]
    }
   ],
   "source": [
    "for isbn in potential_isbns:\n",
    "    print(isbn, is_isbn(isbn))"
   ]
  },
  {
   "cell_type": "code",
   "execution_count": null,
   "metadata": {},
   "outputs": [],
   "source": []
  }
 ],
 "metadata": {
  "kernelspec": {
   "display_name": "Python 3",
   "language": "python",
   "name": "python3"
  },
  "language_info": {
   "codemirror_mode": {
    "name": "ipython",
    "version": 3
   },
   "file_extension": ".py",
   "mimetype": "text/x-python",
   "name": "python",
   "nbconvert_exporter": "python",
   "pygments_lexer": "ipython3",
   "version": "3.8.5"
  }
 },
 "nbformat": 4,
 "nbformat_minor": 4
}
